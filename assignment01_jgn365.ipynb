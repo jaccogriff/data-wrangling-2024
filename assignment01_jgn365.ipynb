{
 "cells": [
  {
   "cell_type": "markdown",
   "metadata": {},
   "source": [
    "# Assignment 1"
   ]
  },
  {
   "cell_type": "markdown",
   "metadata": {},
   "source": [
    "* <b>Do not change the structure</b> of the notebook, only fill in the parts where your code needs to be filled in.\n",
    "\n",
    "--- \n",
    "\n",
    "* For your notebook, <b>use as filename</b> `assignment01_vunetID.ipynb`, where `vunetID` is your three letter, three digit VU ID."
   ]
  },
  {
   "cell_type": "code",
   "execution_count": 5,
   "metadata": {
    "deletable": false,
    "editable": false,
    "nbgrader": {
     "cell_type": "code",
     "checksum": "2e79fc5d76b21c640be183c076396cc5",
     "grade": false,
     "grade_id": "libraries",
     "locked": true,
     "schema_version": 3,
     "solution": false
    }
   },
   "outputs": [],
   "source": [
    "# read neccessary libraries\n",
    "import numpy as np\n",
    "import pandas as pd\n",
    "import lxml\n",
    "pd.options.display.max_rows = 20\n",
    "np.set_printoptions(precision = 4, suppress = True)"
   ]
  },
  {
   "cell_type": "markdown",
   "metadata": {},
   "source": [
    "### Manufacturing processes\n",
    "The file listed below contains data on a manufacturing process. Certain configurations of biological material and manufacturing processes result in a specific yield. Compute the average yield over all records and assign that value to the variable *avg_yield*."
   ]
  },
  {
   "cell_type": "code",
   "execution_count": 53,
   "metadata": {
    "deletable": false,
    "nbgrader": {
     "cell_type": "code",
     "checksum": "c5c8bf06ae19db044377648b09d66f2c",
     "grade": false,
     "grade_id": "yield",
     "locked": false,
     "schema_version": 3,
     "solution": true
    }
   },
   "outputs": [],
   "source": [
    "file = 'manufacturing.csv'\n",
    "\n",
    "df = pd.read_csv(file)\n",
    "\n",
    "avg_yield = df[\"Yield\"].mean()"
   ]
  },
  {
   "cell_type": "code",
   "execution_count": 37,
   "metadata": {
    "deletable": false,
    "editable": false,
    "nbgrader": {
     "cell_type": "code",
     "checksum": "953bd97b8911ad45b19d01a04653330f",
     "grade": true,
     "grade_id": "yield_correct",
     "locked": true,
     "points": 1,
     "schema_version": 3,
     "solution": false
    }
   },
   "outputs": [
    {
     "name": "stdout",
     "output_type": "stream",
     "text": [
      "40.17653409090909\n"
     ]
    }
   ],
   "source": [
    "print(avg_yield)"
   ]
  },
  {
   "cell_type": "markdown",
   "metadata": {},
   "source": [
    "The file contains some missing data. Calculate the number of records that are not complete. Assign that number to the variable *num_missing*."
   ]
  },
  {
   "cell_type": "code",
   "execution_count": 41,
   "metadata": {
    "deletable": false,
    "nbgrader": {
     "cell_type": "code",
     "checksum": "daa708ff3227fe18b3ab26d556946efe",
     "grade": false,
     "grade_id": "missing",
     "locked": false,
     "schema_version": 3,
     "solution": true
    }
   },
   "outputs": [],
   "source": [
    "# YOUR CODE HERE\n",
    "# Check the number of blank values in each column\n",
    "blank_records = df.isnull().any(axis=1)\n",
    "\n",
    "\n",
    "num_missing = len(df[blank_records])\n",
    "# YOUR CODE ENDS HERE"
   ]
  },
  {
   "cell_type": "code",
   "execution_count": 43,
   "metadata": {
    "deletable": false,
    "editable": false,
    "nbgrader": {
     "cell_type": "code",
     "checksum": "00c179517d2151fd57011a9c3df8538b",
     "grade": true,
     "grade_id": "missing-correct",
     "locked": true,
     "points": 1,
     "schema_version": 3,
     "solution": false
    }
   },
   "outputs": [
    {
     "name": "stdout",
     "output_type": "stream",
     "text": [
      "24\n",
      "     Yield  BiologicalMaterial01  BiologicalMaterial02  BiologicalMaterial03  \\\n",
      "0    38.00                  6.25                 49.58                 56.97   \n",
      "1    42.44                  8.01                 60.97                 67.48   \n",
      "2    42.03                  8.01                 60.97                 67.48   \n",
      "3    41.42                  8.01                 60.97                 67.48   \n",
      "4    42.49                  7.47                 63.33                 72.25   \n",
      "..     ...                   ...                   ...                   ...   \n",
      "171  39.66                  6.71                 56.32                 66.19   \n",
      "172  39.68                  6.87                 56.74                 66.61   \n",
      "173  42.23                  7.50                 58.41                 68.30   \n",
      "174  38.48                  7.53                 58.36                 69.25   \n",
      "175  39.49                  7.53                 58.36                 69.25   \n",
      "\n",
      "     BiologicalMaterial04  BiologicalMaterial05  BiologicalMaterial06  \\\n",
      "0                   12.74                 19.51                 43.73   \n",
      "1                   14.65                 19.36                 53.14   \n",
      "2                   14.65                 19.36                 53.14   \n",
      "3                   14.65                 19.36                 53.14   \n",
      "4                   14.02                 17.91                 54.66   \n",
      "..                    ...                   ...                   ...   \n",
      "171                 12.35                 20.02                 50.26   \n",
      "172                 12.55                 20.18                 50.80   \n",
      "173                 13.33                 20.81                 52.96   \n",
      "174                 14.35                 20.57                 51.31   \n",
      "175                 14.35                 20.57                 51.31   \n",
      "\n",
      "     BiologicalMaterial07  BiologicalMaterial08  BiologicalMaterial09  ...  \\\n",
      "0                   100.0                 16.66                 11.44  ...   \n",
      "1                   100.0                 19.04                 12.55  ...   \n",
      "2                   100.0                 19.04                 12.55  ...   \n",
      "3                   100.0                 19.04                 12.55  ...   \n",
      "4                   100.0                 18.22                 12.80  ...   \n",
      "..                    ...                   ...                   ...  ...   \n",
      "171                 100.0                 17.54                 12.50  ...   \n",
      "172                 100.0                 17.48                 12.41  ...   \n",
      "173                 100.0                 17.23                 12.04  ...   \n",
      "174                 100.0                 17.87                 12.77  ...   \n",
      "175                 100.0                 17.87                 12.77  ...   \n",
      "\n",
      "     ManufacturingProcess36  ManufacturingProcess37  ManufacturingProcess38  \\\n",
      "0                     0.019                     0.5                       3   \n",
      "1                     0.019                     2.0                       2   \n",
      "2                     0.018                     0.7                       2   \n",
      "3                     0.018                     1.2                       2   \n",
      "4                     0.017                     0.2                       2   \n",
      "..                      ...                     ...                     ...   \n",
      "171                     NaN                     2.3                       0   \n",
      "172                     NaN                     1.0                       0   \n",
      "173                     NaN                     1.3                       0   \n",
      "174                     NaN                     2.3                       0   \n",
      "175                     NaN                     0.9                       0   \n",
      "\n",
      "     ManufacturingProcess39  ManufacturingProcess40  ManufacturingProcess41  \\\n",
      "0                       7.2                     NaN                     NaN   \n",
      "1                       7.2                     0.1                    0.15   \n",
      "2                       7.2                     0.0                    0.00   \n",
      "3                       7.2                     0.0                    0.00   \n",
      "4                       7.3                     0.0                    0.00   \n",
      "..                      ...                     ...                     ...   \n",
      "171                     0.0                     0.0                    0.00   \n",
      "172                     0.0                     0.0                    0.00   \n",
      "173                     0.0                     0.0                    0.00   \n",
      "174                     0.0                     0.0                    0.00   \n",
      "175                     0.0                     0.0                    0.00   \n",
      "\n",
      "     ManufacturingProcess42  ManufacturingProcess43  ManufacturingProcess44  \\\n",
      "0                      11.6                     3.0                     1.8   \n",
      "1                      11.1                     0.9                     1.9   \n",
      "2                      12.0                     1.0                     1.8   \n",
      "3                      10.6                     1.1                     1.8   \n",
      "4                      11.0                     1.1                     1.7   \n",
      "..                      ...                     ...                     ...   \n",
      "171                     0.0                     0.6                     0.0   \n",
      "172                     0.0                     0.6                     0.0   \n",
      "173                     0.0                     0.6                     0.0   \n",
      "174                     0.0                     0.5                     0.0   \n",
      "175                     0.0                     0.6                     0.0   \n",
      "\n",
      "     ManufacturingProcess45  \n",
      "0                       2.4  \n",
      "1                       2.2  \n",
      "2                       2.3  \n",
      "3                       2.1  \n",
      "4                       2.1  \n",
      "..                      ...  \n",
      "171                     0.0  \n",
      "172                     0.0  \n",
      "173                     0.0  \n",
      "174                     0.0  \n",
      "175                     0.0  \n",
      "\n",
      "[176 rows x 58 columns]\n"
     ]
    }
   ],
   "source": [
    "print(num_missing)\n",
    "print(df)"
   ]
  },
  {
   "cell_type": "markdown",
   "metadata": {},
   "source": [
    "The column **ManufacturingProcess03** contains some missing values. Replace the missing value with the number 1.0 and calculate the mean of this column. Assign the result to the variable *avg_mp3*."
   ]
  },
  {
   "cell_type": "code",
   "execution_count": 56,
   "metadata": {
    "deletable": false,
    "nbgrader": {
     "cell_type": "code",
     "checksum": "7d8c5663f073af444fe2b1838dbf2f79",
     "grade": false,
     "grade_id": "replace",
     "locked": false,
     "schema_version": 3,
     "solution": true
    }
   },
   "outputs": [],
   "source": [
    "\n",
    "df.loc[df[\"ManufacturingProcess03\"].isna(), \"ManufacturingProcess03\"] = 1.0\n",
    "\n",
    "avg_mp3 = df[\"ManufacturingProcess03\"].mean()\n"
   ]
  },
  {
   "cell_type": "code",
   "execution_count": 57,
   "metadata": {
    "deletable": false,
    "editable": false,
    "nbgrader": {
     "cell_type": "code",
     "checksum": "2eada7efe411166c21ef6e4537492163",
     "grade": true,
     "grade_id": "replace-correct",
     "locked": true,
     "points": 1,
     "schema_version": 3,
     "solution": false
    }
   },
   "outputs": [
    {
     "name": "stdout",
     "output_type": "stream",
     "text": [
      "1.4935795454545455\n"
     ]
    }
   ],
   "source": [
    "print(avg_mp3)"
   ]
  },
  {
   "cell_type": "markdown",
   "metadata": {},
   "source": [
    "### Population of Amsterdam in 2023\n",
    "The URL listed below contains tables on the demographics of Amsterdam. Use pandas commands to assign the **population estimate of 2023-01-01** in **Amsterdam** to the variable *population*.\n"
   ]
  },
  {
   "cell_type": "code",
   "execution_count": 18,
   "metadata": {
    "deletable": false,
    "nbgrader": {
     "cell_type": "code",
     "checksum": "e4ecbadbb045ace02d0cd33f452c8f1a",
     "grade": false,
     "grade_id": "html-q1",
     "locked": false,
     "schema_version": 3,
     "solution": true
    }
   },
   "outputs": [],
   "source": [
    "url = 'https://www.citypopulation.de/en/netherlands/admin/noord_holland/0363__amsterdam/'\n",
    "\n",
    "# YOUR CODE HERE\n",
    "tables = pd.read_html(url)\n",
    "population = tables[0][\"Population Estimate 2023-01-01\"][0]\n",
    "# YOUR CODE ENDS HERE"
   ]
  },
  {
   "cell_type": "code",
   "execution_count": 17,
   "metadata": {
    "deletable": false,
    "editable": false,
    "nbgrader": {
     "cell_type": "code",
     "checksum": "853c891f634bd45f81d868af91cc9dc5",
     "grade": true,
     "grade_id": "html-q1-correct",
     "locked": true,
     "points": 1,
     "schema_version": 3,
     "solution": false
    }
   },
   "outputs": [
    {
     "name": "stdout",
     "output_type": "stream",
     "text": [
      "921468\n"
     ]
    }
   ],
   "source": [
    "print(population)"
   ]
  },
  {
   "cell_type": "markdown",
   "metadata": {},
   "source": [
    "Which fraction of the total population is that? Extract the necessary information from the same table, and assign that value to the variable *fraction*."
   ]
  },
  {
   "cell_type": "code",
   "execution_count": 28,
   "metadata": {
    "deletable": false,
    "nbgrader": {
     "cell_type": "code",
     "checksum": "b4c5719aaabf271dc077dae8d37b98b3",
     "grade": false,
     "grade_id": "html-q2",
     "locked": false,
     "schema_version": 3,
     "solution": true
    }
   },
   "outputs": [],
   "source": [
    "# YOUR CODE HERE\n",
    "fraction = population / tables[0][\"Population Estimate 2023-01-01\"][1]\n",
    "# YOUR CODE ENDS HERE"
   ]
  },
  {
   "cell_type": "code",
   "execution_count": 29,
   "metadata": {
    "deletable": false,
    "editable": false,
    "nbgrader": {
     "cell_type": "code",
     "checksum": "a054b6372e4061be9a3678a1654dda46",
     "grade": true,
     "grade_id": "html-q2-correct",
     "locked": true,
     "points": 1,
     "schema_version": 3,
     "solution": false
    }
   },
   "outputs": [
    {
     "name": "stdout",
     "output_type": "stream",
     "text": [
      "0.05172280240338923\n"
     ]
    }
   ],
   "source": [
    "print(fraction)"
   ]
  },
  {
   "cell_type": "markdown",
   "metadata": {},
   "source": [
    "### Food database\n",
    "The file listed below contains a database on food products. Read the file and count the number of unique categories in the variable *group*. Assign that number to the variable *num_categories*."
   ]
  },
  {
   "cell_type": "code",
   "execution_count": 35,
   "metadata": {
    "deletable": false,
    "nbgrader": {
     "cell_type": "code",
     "checksum": "11bc3a966f7a7ff07985fc7da5a00024",
     "grade": false,
     "grade_id": "unique-categories",
     "locked": false,
     "schema_version": 3,
     "solution": true
    }
   },
   "outputs": [],
   "source": [
    "import json\n",
    "file = 'database.json'\n",
    "\n",
    "# YOUR CODE HERE\n",
    "df = pd.read_json(file)\n",
    "\n",
    "num_categories = len(df[\"group\"].value_counts())\n",
    "# YOUR CODE ENDS HERE"
   ]
  },
  {
   "cell_type": "code",
   "execution_count": 36,
   "metadata": {
    "deletable": false,
    "editable": false,
    "nbgrader": {
     "cell_type": "code",
     "checksum": "492ee59d5ac7952e0ff680f096a98177",
     "grade": true,
     "grade_id": "unique-categories-correct",
     "locked": true,
     "points": 1,
     "schema_version": 3,
     "solution": false
    }
   },
   "outputs": [
    {
     "name": "stdout",
     "output_type": "stream",
     "text": [
      "25\n"
     ]
    }
   ],
   "source": [
    "print(num_categories)"
   ]
  },
  {
   "cell_type": "markdown",
   "metadata": {},
   "source": [
    "Count the number of products that are mentioned in the **Baby Foods** group. Assign that number to the variable *baby_total*."
   ]
  },
  {
   "cell_type": "code",
   "execution_count": 42,
   "metadata": {
    "deletable": false,
    "nbgrader": {
     "cell_type": "code",
     "checksum": "a847f40b0d5a1d80aede5fa4110944a4",
     "grade": false,
     "grade_id": "food-database",
     "locked": false,
     "schema_version": 3,
     "solution": true
    }
   },
   "outputs": [],
   "source": [
    "# YOUR CODE HERE\n",
    "baby_total = len(df[df[\"group\"] == \"Baby Foods\"])\n",
    "# YOUR CODE ENDS HERE"
   ]
  },
  {
   "cell_type": "code",
   "execution_count": 43,
   "metadata": {
    "deletable": false,
    "editable": false,
    "nbgrader": {
     "cell_type": "code",
     "checksum": "8658021b75813a3e0c5f7ca258dada5a",
     "grade": true,
     "grade_id": "food-database-correct",
     "locked": true,
     "points": 2,
     "schema_version": 3,
     "solution": false
    }
   },
   "outputs": [
    {
     "name": "stdout",
     "output_type": "stream",
     "text": [
      "209\n"
     ]
    }
   ],
   "source": [
    "print(baby_total)"
   ]
  },
  {
   "cell_type": "markdown",
   "metadata": {},
   "source": [
    "### Bus database\n",
    "The following XML file contains records on the LI Bus service. Read in the XML and count the number of records present in the file. Assign that number to the variable *num_records*."
   ]
  },
  {
   "cell_type": "code",
   "execution_count": 46,
   "metadata": {
    "deletable": false,
    "nbgrader": {
     "cell_type": "code",
     "checksum": "beff521cdd222fd8069c65f22f8b7abc",
     "grade": false,
     "grade_id": "bus",
     "locked": false,
     "schema_version": 3,
     "solution": true
    }
   },
   "outputs": [],
   "source": [
    "from lxml import objectify\n",
    "file = 'libus.xml'\n",
    "\n",
    "# YOUR CODE HERE\n",
    "parsed_file = objectify.parse(open(file))\n",
    "\n",
    "root = parsed_file.getroot()\n",
    "\n",
    "data = []\n",
    "num_records = 0\n",
    "for elt in root.INDICATOR:\n",
    "    num_records += 1\n",
    "\n"
   ]
  },
  {
   "cell_type": "code",
   "execution_count": 47,
   "metadata": {
    "deletable": false,
    "editable": false,
    "nbgrader": {
     "cell_type": "code",
     "checksum": "0eb270e75e5622dd52d47b6a818f9138",
     "grade": true,
     "grade_id": "bus-correct",
     "locked": true,
     "points": 2,
     "schema_version": 3,
     "solution": false
    }
   },
   "outputs": [
    {
     "name": "stdout",
     "output_type": "stream",
     "text": [
      "480\n"
     ]
    }
   ],
   "source": [
    "print(num_records)"
   ]
  }
 ],
 "metadata": {
  "kernelspec": {
   "display_name": "Python 3 (ipykernel)",
   "language": "python",
   "name": "python3"
  },
  "language_info": {
   "codemirror_mode": {
    "name": "ipython",
    "version": 3
   },
   "file_extension": ".py",
   "mimetype": "text/x-python",
   "name": "python",
   "nbconvert_exporter": "python",
   "pygments_lexer": "ipython3",
   "version": "3.10.13"
  }
 },
 "nbformat": 4,
 "nbformat_minor": 4
}
